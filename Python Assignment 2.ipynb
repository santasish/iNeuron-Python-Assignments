{
 "cells": [
  {
   "cell_type": "markdown",
   "id": "a0223d62",
   "metadata": {},
   "source": [
    "#### 1.What are the two values of the Boolean data type? How do you write them?"
   ]
  },
  {
   "cell_type": "code",
   "execution_count": 1,
   "id": "bd75b33a",
   "metadata": {},
   "outputs": [
    {
     "data": {
      "text/plain": [
       "True"
      ]
     },
     "execution_count": 1,
     "metadata": {},
     "output_type": "execute_result"
    }
   ],
   "source": [
    "True"
   ]
  },
  {
   "cell_type": "code",
   "execution_count": 4,
   "id": "0bb84389",
   "metadata": {},
   "outputs": [
    {
     "data": {
      "text/plain": [
       "bool"
      ]
     },
     "execution_count": 4,
     "metadata": {},
     "output_type": "execute_result"
    }
   ],
   "source": [
    "type(True)"
   ]
  },
  {
   "cell_type": "code",
   "execution_count": 2,
   "id": "0f1d16e0",
   "metadata": {},
   "outputs": [
    {
     "data": {
      "text/plain": [
       "False"
      ]
     },
     "execution_count": 2,
     "metadata": {},
     "output_type": "execute_result"
    }
   ],
   "source": [
    "False"
   ]
  },
  {
   "cell_type": "code",
   "execution_count": 3,
   "id": "49b308e1",
   "metadata": {},
   "outputs": [
    {
     "data": {
      "text/plain": [
       "bool"
      ]
     },
     "execution_count": 3,
     "metadata": {},
     "output_type": "execute_result"
    }
   ],
   "source": [
    "type(False)"
   ]
  },
  {
   "cell_type": "markdown",
   "id": "eadd678e",
   "metadata": {},
   "source": [
    "##### 2. What are the three different types of Boolean operators?"
   ]
  },
  {
   "cell_type": "markdown",
   "id": "73a7c44f",
   "metadata": {},
   "source": [
    "The 3 different types of Boolean operators are AND , OR and NOT."
   ]
  },
  {
   "cell_type": "markdown",
   "id": "29e65642",
   "metadata": {},
   "source": [
    "##### 3. Make a list of each Boolean operator&#39;s truth tables (i.e. every possible combination of Boolean values for the operator and what it evaluate )."
   ]
  },
  {
   "cell_type": "code",
   "execution_count": 7,
   "id": "61cd80e5",
   "metadata": {},
   "outputs": [
    {
     "data": {
      "text/plain": [
       "'\\nAnd                                       \\n\\n1 - 1 --> 1                          \\n0 - 0 --> 0                           \\n1 - 0 --> 0          \\n0 - 1 --> 0 \\n\\n\\n Not\\n \\n \\n1 ---> 0\\n0 ---> 1\\n\\n\\n Or\\n \\n 1 - 1 --> 1 \\n 0 - 0 --> 0\\n 1 - 0 --> 1 \\n 0 - 1 --> 1\\n \\n \\n \\n\\n \\n \\n \\n \\n \\n '"
      ]
     },
     "execution_count": 7,
     "metadata": {},
     "output_type": "execute_result"
    }
   ],
   "source": [
    "\"\"\"\n",
    "And                                       \n",
    "\n",
    "1 - 1 --> 1                          \n",
    "0 - 0 --> 0                           \n",
    "1 - 0 --> 0          \n",
    "0 - 1 --> 0 \n",
    "\n",
    "\n",
    " Not\n",
    " \n",
    " \n",
    "1 ---> 0\n",
    "0 ---> 1\n",
    "\n",
    "\n",
    " Or\n",
    " \n",
    " 1 - 1 --> 1 \n",
    " 0 - 0 --> 0\n",
    " 1 - 0 --> 1 \n",
    " 0 - 1 --> 1\n",
    " \n",
    " \n",
    " \n",
    "\n",
    " \n",
    " \n",
    " \n",
    " \n",
    " \n",
    " \"\"\"\n"
   ]
  },
  {
   "cell_type": "markdown",
   "id": "7395210b",
   "metadata": {},
   "source": [
    "##### 4. What are the values of the following expressions?"
   ]
  },
  {
   "cell_type": "code",
   "execution_count": 8,
   "id": "03766c6e",
   "metadata": {},
   "outputs": [
    {
     "data": {
      "text/plain": [
       "False"
      ]
     },
     "execution_count": 8,
     "metadata": {},
     "output_type": "execute_result"
    }
   ],
   "source": [
    "(5 > 4) and (3 == 5)"
   ]
  },
  {
   "cell_type": "code",
   "execution_count": 9,
   "id": "76fb3878",
   "metadata": {},
   "outputs": [
    {
     "data": {
      "text/plain": [
       "False"
      ]
     },
     "execution_count": 9,
     "metadata": {},
     "output_type": "execute_result"
    }
   ],
   "source": [
    "not (5 > 4)"
   ]
  },
  {
   "cell_type": "code",
   "execution_count": 10,
   "id": "22783a11",
   "metadata": {},
   "outputs": [
    {
     "data": {
      "text/plain": [
       "True"
      ]
     },
     "execution_count": 10,
     "metadata": {},
     "output_type": "execute_result"
    }
   ],
   "source": [
    "(5 > 4) or (3 == 5)"
   ]
  },
  {
   "cell_type": "code",
   "execution_count": 11,
   "id": "8d2b4faf",
   "metadata": {},
   "outputs": [
    {
     "data": {
      "text/plain": [
       "False"
      ]
     },
     "execution_count": 11,
     "metadata": {},
     "output_type": "execute_result"
    }
   ],
   "source": [
    "not ((5 > 4) or (3 == 5))"
   ]
  },
  {
   "cell_type": "code",
   "execution_count": 12,
   "id": "658ec453",
   "metadata": {},
   "outputs": [
    {
     "data": {
      "text/plain": [
       "False"
      ]
     },
     "execution_count": 12,
     "metadata": {},
     "output_type": "execute_result"
    }
   ],
   "source": [
    "(True and True) and (True == False)"
   ]
  },
  {
   "cell_type": "code",
   "execution_count": 13,
   "id": "fa650faa",
   "metadata": {},
   "outputs": [
    {
     "data": {
      "text/plain": [
       "True"
      ]
     },
     "execution_count": 13,
     "metadata": {},
     "output_type": "execute_result"
    }
   ],
   "source": [
    "(not False) or (not True)"
   ]
  },
  {
   "cell_type": "markdown",
   "id": "0a719af5",
   "metadata": {},
   "source": [
    "#### 5. What are the six comparison operators?"
   ]
  },
  {
   "cell_type": "code",
   "execution_count": 38,
   "id": "70b72d93",
   "metadata": {},
   "outputs": [
    {
     "data": {
      "text/plain": [
       "'\\n\\n\">\"       -----------> Greater than\\n\"<\"       -----------> Lesser than\\n\">=\"      -----------> Greater than or equal to\\n\"<=\"      -----------> Lesser than or equal to\\n\"==\"      -----------> Equal to\\n\"!=\"      -----------> Not Equal to\\n\\n'"
      ]
     },
     "execution_count": 38,
     "metadata": {},
     "output_type": "execute_result"
    }
   ],
   "source": [
    "\"\"\"\n",
    "\n",
    "\">\"       -----------> Greater than\n",
    "\"<\"       -----------> Lesser than\n",
    "\">=\"      -----------> Greater than or equal to\n",
    "\"<=\"      -----------> Lesser than or equal to\n",
    "\"==\"      -----------> Equal to\n",
    "\"!=\"      -----------> Not Equal to\n",
    "\n",
    "\"\"\""
   ]
  },
  {
   "cell_type": "markdown",
   "id": "3b87e57e",
   "metadata": {},
   "source": [
    "##### 6. How do you tell the difference between the equal to and assignment operators?Describe a condition and when you would use one."
   ]
  },
  {
   "cell_type": "code",
   "execution_count": 15,
   "id": "ba763f42",
   "metadata": {},
   "outputs": [
    {
     "data": {
      "text/plain": [
       "8"
      ]
     },
     "execution_count": 15,
     "metadata": {},
     "output_type": "execute_result"
    }
   ],
   "source": [
    "# \" = \" is used as an assignment operator where a value can be assigned to a variable. For example,\n",
    "\n",
    "a = 5\n",
    "b = 3\n",
    " \n",
    "a+b"
   ]
  },
  {
   "cell_type": "markdown",
   "id": "7348f7cf",
   "metadata": {},
   "source": [
    "\"=\" assigns the value for the variables a and b, whereas \"==\" checks for equality. For example,"
   ]
  },
  {
   "cell_type": "code",
   "execution_count": 16,
   "id": "fded611a",
   "metadata": {
    "scrolled": true
   },
   "outputs": [
    {
     "name": "stdout",
     "output_type": "stream",
     "text": [
      "False\n"
     ]
    }
   ],
   "source": [
    "c = 10\n",
    "\n",
    "if a+b == c:\n",
    "    print('True')\n",
    "else:\n",
    "    print('False')"
   ]
  },
  {
   "cell_type": "code",
   "execution_count": 18,
   "id": "89276e6d",
   "metadata": {},
   "outputs": [
    {
     "name": "stdout",
     "output_type": "stream",
     "text": [
      "bacon\n"
     ]
    }
   ],
   "source": [
    "# __Example2__\n",
    "\n",
    "spam = 0                     # assigning value of spam = 0  \n",
    "\n",
    "if spam == 10:               # checking equality that spam is equal to 10 or not\n",
    "    print('eggs')\n",
    "else:                        \n",
    "    print('bacon')"
   ]
  },
  {
   "cell_type": "markdown",
   "id": "743f914f",
   "metadata": {},
   "source": [
    "#### 7. Identify the three blocks in this code:"
   ]
  },
  {
   "cell_type": "code",
   "execution_count": 17,
   "id": "2ed1d518",
   "metadata": {},
   "outputs": [
    {
     "name": "stdout",
     "output_type": "stream",
     "text": [
      "ham\n",
      "spam\n",
      "spam\n"
     ]
    }
   ],
   "source": [
    "spam = 0\n",
    "\n",
    "if spam == 10:\n",
    "    print('eggs')\n",
    "    \n",
    "if spam > 5:\n",
    "    print('bacon')\n",
    "    \n",
    "else:\n",
    "    print('ham')\n",
    "    print('spam')\n",
    "    print('spam')\n",
    "        "
   ]
  },
  {
   "cell_type": "markdown",
   "id": "075555dd",
   "metadata": {},
   "source": [
    "##### 8. Write code that prints Hello if 1 is stored in spam, prints Howdy if 2 is stored in spam, and prints Greetings! if anything else is stored in spam."
   ]
  },
  {
   "cell_type": "code",
   "execution_count": 21,
   "id": "11aaaede",
   "metadata": {},
   "outputs": [
    {
     "name": "stdout",
     "output_type": "stream",
     "text": [
      "Enter value for spam: 300\n",
      "Greetings!\n"
     ]
    }
   ],
   "source": [
    "spam = int(input('Enter value for spam: '))\n",
    "\n",
    "if spam == 1:\n",
    "    print(\"Hello\")\n",
    "    \n",
    "elif spam == 2:\n",
    "    print(\"Howdy\")\n",
    "    \n",
    "else:\n",
    "    print(\"Greetings!\")\n"
   ]
  },
  {
   "cell_type": "markdown",
   "id": "18d91083",
   "metadata": {},
   "source": [
    "#### 9.If your programme is stuck in an endless loop, what keys you’ll press?"
   ]
  },
  {
   "cell_type": "markdown",
   "id": "d8b299b6",
   "metadata": {},
   "source": [
    "An endless loop is a loop that runs indefinitely and it only stops with external intervention or when a break statement is found.\n",
    "\n",
    "\n",
    "We can press Ctrl + C to stop the endless loop."
   ]
  },
  {
   "cell_type": "markdown",
   "id": "f2b8ae26",
   "metadata": {},
   "source": [
    "#### 10. How can you tell the difference between break and continue?"
   ]
  },
  {
   "cell_type": "markdown",
   "id": "e7f92ce9",
   "metadata": {},
   "source": [
    "break is used to break out from the loop immediately whereas, continue is to continue or move onto the next iteration."
   ]
  },
  {
   "cell_type": "code",
   "execution_count": 22,
   "id": "a5ca5fad",
   "metadata": {},
   "outputs": [
    {
     "name": "stdout",
     "output_type": "stream",
     "text": [
      "1\n",
      "2\n",
      "4\n"
     ]
    }
   ],
   "source": [
    "l = [1,2,3,4,5,6]\n",
    "\n",
    "for i in l:\n",
    "    if i < 3:\n",
    "        print(i)               # ... prints 1,2\n",
    "    elif i == 3:\n",
    "        continue               # ... continues to the next iteration\n",
    "    elif i == 4:\n",
    "        print(i)               # .... prints 4\n",
    "    else:                      \n",
    "        break                  # .... loop breaks for the 'else' condition as i > 4"
   ]
  },
  {
   "cell_type": "markdown",
   "id": "8b347d59",
   "metadata": {},
   "source": [
    "### 11. In a for loop, what is the difference between range(10), range(0, 10), and range(0, 10, 1)?"
   ]
  },
  {
   "cell_type": "markdown",
   "id": "4523fa0f",
   "metadata": {},
   "source": [
    "Range function is a built-in generator function in Python which generates a sequence of integers."
   ]
  },
  {
   "cell_type": "code",
   "execution_count": 24,
   "id": "64f227f8",
   "metadata": {},
   "outputs": [
    {
     "name": "stdout",
     "output_type": "stream",
     "text": [
      "0 1 2 3 4 5 6 7 8 9 "
     ]
    }
   ],
   "source": [
    "for i in range(10):\n",
    "    print(i, end = \" \")\n",
    "    "
   ]
  },
  {
   "cell_type": "markdown",
   "id": "44236ba1",
   "metadata": {},
   "source": [
    "range(10), generates a sequence of integer data starting from (default) 0 ----> continuing till 9, as the numbering is similar to that of indexing where the start point is 0 and hence the end_point is (end_point - 1)"
   ]
  },
  {
   "cell_type": "code",
   "execution_count": 26,
   "id": "99efc456",
   "metadata": {},
   "outputs": [
    {
     "name": "stdout",
     "output_type": "stream",
     "text": [
      "0 1 2 3 4 5 6 7 8 9 "
     ]
    }
   ],
   "source": [
    "for i in range(0,10):\n",
    "    print(i, end = \" \")\n",
    "    "
   ]
  },
  {
   "cell_type": "code",
   "execution_count": null,
   "id": "72804ffc",
   "metadata": {},
   "outputs": [],
   "source": [
    "Here, the initial start value is explicitly set to 0 and the end point to 10. "
   ]
  },
  {
   "cell_type": "code",
   "execution_count": 27,
   "id": "3c2ae1d7",
   "metadata": {},
   "outputs": [
    {
     "name": "stdout",
     "output_type": "stream",
     "text": [
      "0 1 2 3 4 5 6 7 8 9 "
     ]
    }
   ],
   "source": [
    "for i in range(0,10,1):\n",
    "    print(i, end = \" \")"
   ]
  },
  {
   "cell_type": "markdown",
   "id": "0289c1f7",
   "metadata": {},
   "source": [
    "The third parameter after the intial start_point, end_point is the step_size, which is set to 1. Hence the above dataset."
   ]
  },
  {
   "cell_type": "code",
   "execution_count": 31,
   "id": "bb9e6678",
   "metadata": {},
   "outputs": [
    {
     "name": "stdout",
     "output_type": "stream",
     "text": [
      "10 15 20 25 30 35 40 45 50 55 60 65 70 75 80 85 90 95 "
     ]
    }
   ],
   "source": [
    "# __Example__\n",
    "\n",
    "for i in range (10,100,5):               # start_point= 10, end_point= 100, step_size= 5\n",
    "    print(i, end=\" \")\n",
    "    "
   ]
  },
  {
   "cell_type": "markdown",
   "id": "6887d26d",
   "metadata": {},
   "source": [
    "The generated dataset starts from 10, ends at 95 as 100 cannot be considered, and the count jumps to 5 places!"
   ]
  },
  {
   "cell_type": "markdown",
   "id": "22ef703d",
   "metadata": {},
   "source": [
    "#### 12. Write a short program that prints the numbers 1 to 10 using a for loop. Then write an equivalent program that prints the numbers 1 to 10 using a while loop."
   ]
  },
  {
   "cell_type": "code",
   "execution_count": 33,
   "id": "7e1e7f15",
   "metadata": {},
   "outputs": [
    {
     "name": "stdout",
     "output_type": "stream",
     "text": [
      "1 2 3 4 5 6 7 8 9 10 "
     ]
    }
   ],
   "source": [
    "for i in range(1,11):\n",
    "    print(i, end= \" \")"
   ]
  },
  {
   "cell_type": "code",
   "execution_count": 35,
   "id": "e9e55966",
   "metadata": {},
   "outputs": [
    {
     "name": "stdout",
     "output_type": "stream",
     "text": [
      "1 2 3 4 5 6 7 8 9 10 "
     ]
    }
   ],
   "source": [
    "a = 1\n",
    "while a <= 10:\n",
    "    print(a, end=\" \")\n",
    "    a+=1"
   ]
  },
  {
   "cell_type": "markdown",
   "id": "f1261b14",
   "metadata": {},
   "source": [
    "#### 13. If you had a function named bacon() inside a module named spam, how would you call it after importing spam?"
   ]
  },
  {
   "cell_type": "markdown",
   "id": "cfa66bd6",
   "metadata": {},
   "source": [
    "spam.bacon()"
   ]
  },
  {
   "cell_type": "code",
   "execution_count": null,
   "id": "89a3d7a3",
   "metadata": {},
   "outputs": [],
   "source": []
  }
 ],
 "metadata": {
  "kernelspec": {
   "display_name": "Python 3 (ipykernel)",
   "language": "python",
   "name": "python3"
  },
  "language_info": {
   "codemirror_mode": {
    "name": "ipython",
    "version": 3
   },
   "file_extension": ".py",
   "mimetype": "text/x-python",
   "name": "python",
   "nbconvert_exporter": "python",
   "pygments_lexer": "ipython3",
   "version": "3.9.12"
  }
 },
 "nbformat": 4,
 "nbformat_minor": 5
}
