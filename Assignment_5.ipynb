{
 "cells": [
  {
   "cell_type": "markdown",
   "id": "0369c880",
   "metadata": {},
   "source": [
    "##### 1. What does an empty dictionary's code look like?"
   ]
  },
  {
   "cell_type": "code",
   "execution_count": 1,
   "id": "821ab5cf",
   "metadata": {},
   "outputs": [],
   "source": [
    "my_dict = {}"
   ]
  },
  {
   "cell_type": "markdown",
   "id": "3f587a79",
   "metadata": {},
   "source": [
    "##### 2. What is the value of a dictionary value with the key \"foo\" and the value 42?"
   ]
  },
  {
   "cell_type": "code",
   "execution_count": 2,
   "id": "548d7f80",
   "metadata": {},
   "outputs": [],
   "source": [
    "my_dict = {'foo': 42}\n",
    "value = my_dict['foo']\n"
   ]
  },
  {
   "cell_type": "code",
   "execution_count": 3,
   "id": "a2c0c334",
   "metadata": {},
   "outputs": [
    {
     "data": {
      "text/plain": [
       "42"
      ]
     },
     "execution_count": 3,
     "metadata": {},
     "output_type": "execute_result"
    }
   ],
   "source": [
    "value"
   ]
  },
  {
   "cell_type": "markdown",
   "id": "c6bbffc5",
   "metadata": {},
   "source": [
    "##### 3. What is the most significant distinction between a dictionary and a list?"
   ]
  },
  {
   "cell_type": "markdown",
   "id": "5c767a0a",
   "metadata": {},
   "source": [
    "\n",
    "The most significant distinction between a dictionary and a list is how they store and access data:\n",
    "\n",
    "1. Data Storage and Retrieval:\n",
    "\n",
    "Dictionary: Stores data in key-value pairs. Each item has a unique key that is used to access its associated value. Dictionaries are unordered collections.\n",
    "List: Stores data in a sequential manner with integer indices (starting from 0) used to access elements. Lists are ordered collections.\n",
    "\n",
    "    \n",
    "2. Data Type:\n",
    "\n",
    "Dictionary: Can store data of various data types as values, including other dictionaries. Keys must be unique and immutable (e.g., strings, numbers, or tuples).\n",
    "List: Stores data of any data type as elements. Elements can be of different data types within the same list.\n",
    "\n",
    "    \n",
    "3. Accessing Data:\n",
    "\n",
    "Dictionary: Data is accessed by specifying the key associated with the desired value. It allows for fast and direct access to values based on their keys.\n",
    "List: Data is accessed by using integer indices. Accessing elements by index is slower for large lists compared to dictionary key access.\n",
    "Order:\n",
    "\n",
    "Dictionary: Elements are not stored in a specific order (unordered). In Python 3.7 and later, dictionaries maintain the insertion order.\n",
    "List: Elements are stored in a specific order (ordered) and maintain the order of insertion.\n",
    "\n",
    "\n",
    "4. Mutability:\n",
    "\n",
    "Dictionary: Dictionaries are mutable, meaning you can change the values associated with keys or add/remove key-value pairs.\n",
    "List: Lists are mutable, so you can change elements or their positions within the list.\n",
    "\n",
    "\n",
    "Dictionaries are used when data needs to be stored and accessed using unique keys for fast retrieval, while lists are used for storing ordered collections of data with integer-based indexing."
   ]
  },
  {
   "cell_type": "markdown",
   "id": "238b25e2",
   "metadata": {},
   "source": [
    "##### 4. What happens if you try to access spam[\"foo\"if spam is {\"bar\": 100}]?"
   ]
  },
  {
   "cell_type": "markdown",
   "id": "f779bf01",
   "metadata": {},
   "source": [
    "When we try to access spam[\"foo\" if spam is {\"bar\": 100}], you will get a KeyError because the key \"foo\" is not present in the dictionary spam."
   ]
  },
  {
   "cell_type": "markdown",
   "id": "761c1036",
   "metadata": {},
   "source": [
    "##### 5. If a dictionary is stored in spam, what is the difference between the expressions \"cat\" in spam and\"cat\" in spam.keys()?"
   ]
  },
  {
   "cell_type": "markdown",
   "id": "36a288cc",
   "metadata": {},
   "source": [
    "There is no practical difference between the expressions \"cat\" in spam and \"cat\" in spam.keys() when you want to check if the key \"cat\" exists in the dictionary spam. Both expressions will return True if the key \"cat\" is present in the dictionary and False if it's not.\n",
    "\n",
    "The reason is that when you use \"cat\" in spam, Python checks for the presence of the key \"cat\" directly within the dictionary spam. When you use \"cat\" in spam.keys(), you are explicitly asking Python to check if \"cat\" is present among the keys of the dictionary spam. Since dictionary keys are used for key-value pairs, these two expressions are effectively equivalent when checking for key existence"
   ]
  },
  {
   "cell_type": "markdown",
   "id": "70306d96",
   "metadata": {},
   "source": [
    "##### 6. If a dictionary is stored in spam, what is the difference between the expressions \"cat\" in spam and\"cat\" in spam.values()?"
   ]
  },
  {
   "cell_type": "markdown",
   "id": "81fdc68a",
   "metadata": {},
   "source": [
    "When you use \"cat\" in spam.keys(), you are explicitly asking Python to check if \"cat\" is present among the values of the dictionary spam. \n",
    "\n",
    "\"cat\" in spam checks for the presence of \"cat\" directly within the dictionary spam."
   ]
  },
  {
   "cell_type": "markdown",
   "id": "96f36e94",
   "metadata": {},
   "source": [
    "##### 7. What is a shortcut for the following code?\n",
    "\n",
    "if \"color\" not in spam:\n",
    "    \n",
    "    \n",
    "    spam[\"color] = \"black\""
   ]
  },
  {
   "cell_type": "markdown",
   "id": "5fb979c8",
   "metadata": {},
   "source": [
    "shortcut for the given code can be achieved using a dictionary method called setdefault()."
   ]
  },
  {
   "cell_type": "markdown",
   "id": "f8d9a54a",
   "metadata": {},
   "source": [
    " code checks if the key \"color\" is already in the spam dictionary. If it's not, it sets the key \"color\" with the value \"black\". If the key \"color\" already exists, it leaves it unchanged."
   ]
  },
  {
   "cell_type": "markdown",
   "id": "a5ef6585",
   "metadata": {},
   "source": [
    "spam.setdefault(\"color\", \"black\")\n"
   ]
  },
  {
   "cell_type": "markdown",
   "id": "976c88c1",
   "metadata": {},
   "source": [
    "##### 8. How do you \"pretty print\" dictionary values using which module and function?"
   ]
  },
  {
   "cell_type": "code",
   "execution_count": 8,
   "id": "a54606bf",
   "metadata": {},
   "outputs": [],
   "source": [
    "import pprint\n",
    "\n",
    "my_dict = {\n",
    "    'name': 'John',\n",
    "    'age': 30,\n",
    "    'city': 'New York'\n",
    "}"
   ]
  },
  {
   "cell_type": "code",
   "execution_count": 9,
   "id": "8e546c0e",
   "metadata": {},
   "outputs": [
    {
     "name": "stdout",
     "output_type": "stream",
     "text": [
      "{'age': 30, 'city': 'New York', 'name': 'John'}\n"
     ]
    }
   ],
   "source": [
    "pprint.pprint(my_dict)"
   ]
  },
  {
   "cell_type": "markdown",
   "id": "4297d733",
   "metadata": {},
   "source": [
    "pprint() will print the dictionary my_dict in a nicely formatted way, making it easier to read, especially when dealing with nested dictionaries or complex data structures."
   ]
  }
 ],
 "metadata": {
  "kernelspec": {
   "display_name": "Python 3 (ipykernel)",
   "language": "python",
   "name": "python3"
  },
  "language_info": {
   "codemirror_mode": {
    "name": "ipython",
    "version": 3
   },
   "file_extension": ".py",
   "mimetype": "text/x-python",
   "name": "python",
   "nbconvert_exporter": "python",
   "pygments_lexer": "ipython3",
   "version": "3.9.12"
  }
 },
 "nbformat": 4,
 "nbformat_minor": 5
}
