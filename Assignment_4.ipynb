{
 "cells": [
  {
   "cell_type": "markdown",
   "id": "f574c557",
   "metadata": {},
   "source": [
    "##### 1. What exactly is []?"
   ]
  },
  {
   "cell_type": "markdown",
   "id": "abe8620c",
   "metadata": {},
   "source": [
    "[] represents an empty list."
   ]
  },
  {
   "cell_type": "code",
   "execution_count": 1,
   "id": "e5e8ff30",
   "metadata": {},
   "outputs": [],
   "source": [
    "my_list=[]"
   ]
  },
  {
   "cell_type": "code",
   "execution_count": 2,
   "id": "e60f6bd9",
   "metadata": {},
   "outputs": [
    {
     "data": {
      "text/plain": [
       "list"
      ]
     },
     "execution_count": 2,
     "metadata": {},
     "output_type": "execute_result"
    }
   ],
   "source": [
    "type(my_list)"
   ]
  },
  {
   "cell_type": "markdown",
   "id": "2656ec67",
   "metadata": {},
   "source": [
    "An empty list, represented as [], has a length of zero and contains no elements."
   ]
  },
  {
   "cell_type": "code",
   "execution_count": 3,
   "id": "d830e25a",
   "metadata": {},
   "outputs": [
    {
     "data": {
      "text/plain": [
       "0"
      ]
     },
     "execution_count": 3,
     "metadata": {},
     "output_type": "execute_result"
    }
   ],
   "source": [
    "len(my_list)"
   ]
  },
  {
   "cell_type": "markdown",
   "id": "a72b6847",
   "metadata": {},
   "source": [
    "##### 2. In a list of values stored in a variable called spam, how would you assign the value &#39;hello&#39; as thethird value? (Assume [2, 4, 6, 8, 10] are in spam.)"
   ]
  },
  {
   "cell_type": "code",
   "execution_count": 4,
   "id": "d0251404",
   "metadata": {},
   "outputs": [],
   "source": [
    "spam =[2,4,6,8,10]"
   ]
  },
  {
   "cell_type": "code",
   "execution_count": 5,
   "id": "bd9b9de1",
   "metadata": {},
   "outputs": [
    {
     "data": {
      "text/plain": [
       "[2, 4, 'hello', 8, 10]"
      ]
     },
     "execution_count": 5,
     "metadata": {},
     "output_type": "execute_result"
    }
   ],
   "source": [
    "spam[2]=\"hello\"\n",
    "\n",
    "spam"
   ]
  },
  {
   "cell_type": "markdown",
   "id": "40977a44",
   "metadata": {},
   "source": [
    "Assuming spam for the next 3 queries..."
   ]
  },
  {
   "cell_type": "code",
   "execution_count": 6,
   "id": "03b3b2ba",
   "metadata": {},
   "outputs": [],
   "source": [
    "spam=['a','b','c','d']"
   ]
  },
  {
   "cell_type": "markdown",
   "id": "dfdd7a3e",
   "metadata": {},
   "source": [
    "##### 3. What is the value of spam[int(int('3' * 2) / 11)]?"
   ]
  },
  {
   "cell_type": "code",
   "execution_count": 7,
   "id": "250eaf9d",
   "metadata": {},
   "outputs": [
    {
     "data": {
      "text/plain": [
       "'d'"
      ]
     },
     "execution_count": 7,
     "metadata": {},
     "output_type": "execute_result"
    }
   ],
   "source": [
    "spam[int(int('3'*2)/11)]"
   ]
  },
  {
   "cell_type": "markdown",
   "id": "0aece7fc",
   "metadata": {},
   "source": [
    "##### 4. What is the value of spam[-1]?"
   ]
  },
  {
   "cell_type": "code",
   "execution_count": 8,
   "id": "5b854a7f",
   "metadata": {},
   "outputs": [
    {
     "data": {
      "text/plain": [
       "'d'"
      ]
     },
     "execution_count": 8,
     "metadata": {},
     "output_type": "execute_result"
    }
   ],
   "source": [
    "spam[-1]"
   ]
  },
  {
   "cell_type": "markdown",
   "id": "a17bc9aa",
   "metadata": {},
   "source": [
    "##### 5. What is the value of spam[:2]?"
   ]
  },
  {
   "cell_type": "code",
   "execution_count": 9,
   "id": "038e38d9",
   "metadata": {},
   "outputs": [
    {
     "data": {
      "text/plain": [
       "['a', 'b']"
      ]
     },
     "execution_count": 9,
     "metadata": {},
     "output_type": "execute_result"
    }
   ],
   "source": [
    "spam[:2]"
   ]
  },
  {
   "cell_type": "markdown",
   "id": "48f5a9f4",
   "metadata": {},
   "source": [
    " Assuming the values of bacon list for the next 3 queries..."
   ]
  },
  {
   "cell_type": "code",
   "execution_count": 10,
   "id": "9f83fd5b",
   "metadata": {},
   "outputs": [],
   "source": [
    "bacon=[3.14, 'cat' , 11,'cat', True]"
   ]
  },
  {
   "cell_type": "markdown",
   "id": "8204080f",
   "metadata": {},
   "source": [
    "##### 6. What is the value of bacon.index(&#39;cat&#39;)?"
   ]
  },
  {
   "cell_type": "code",
   "execution_count": 11,
   "id": "0f7cf64e",
   "metadata": {},
   "outputs": [
    {
     "data": {
      "text/plain": [
       "1"
      ]
     },
     "execution_count": 11,
     "metadata": {},
     "output_type": "execute_result"
    }
   ],
   "source": [
    "bacon.index('cat')"
   ]
  },
  {
   "cell_type": "markdown",
   "id": "9f877678",
   "metadata": {},
   "source": [
    "##### 7. How does bacon.append(99) change the look of the list value in bacon?"
   ]
  },
  {
   "cell_type": "code",
   "execution_count": 12,
   "id": "a8dc4128",
   "metadata": {},
   "outputs": [],
   "source": [
    "bacon.append(99)"
   ]
  },
  {
   "cell_type": "code",
   "execution_count": 13,
   "id": "e8af6c73",
   "metadata": {},
   "outputs": [
    {
     "data": {
      "text/plain": [
       "[3.14, 'cat', 11, 'cat', True, 99]"
      ]
     },
     "execution_count": 13,
     "metadata": {},
     "output_type": "execute_result"
    }
   ],
   "source": [
    "bacon"
   ]
  },
  {
   "cell_type": "markdown",
   "id": "02f76748",
   "metadata": {},
   "source": [
    "##### 8. How does bacon.remove('cat') change the look of the list in bacon?"
   ]
  },
  {
   "cell_type": "code",
   "execution_count": 14,
   "id": "6536abb4",
   "metadata": {},
   "outputs": [],
   "source": [
    "bacon.remove('cat')"
   ]
  },
  {
   "cell_type": "code",
   "execution_count": 15,
   "id": "4dc9fe7a",
   "metadata": {},
   "outputs": [
    {
     "data": {
      "text/plain": [
       "[3.14, 11, 'cat', True, 99]"
      ]
     },
     "execution_count": 15,
     "metadata": {},
     "output_type": "execute_result"
    }
   ],
   "source": [
    "bacon"
   ]
  },
  {
   "cell_type": "markdown",
   "id": "2adf6d98",
   "metadata": {},
   "source": [
    "##### 9. What are the list concatenation and list replication operators?"
   ]
  },
  {
   "cell_type": "markdown",
   "id": "275ac05f",
   "metadata": {},
   "source": [
    "In Python, the list concatenation operator is +, and the list replication operator is *.\n",
    "\n",
    "List Concatenation (+): The + operator is used to concatenate two or more lists. It combines the elements of one list with the elements of another, creating a new list that contains all the elements from the input lists."
   ]
  },
  {
   "cell_type": "code",
   "execution_count": 16,
   "id": "01383a30",
   "metadata": {},
   "outputs": [
    {
     "name": "stdout",
     "output_type": "stream",
     "text": [
      "[1, 2, 3, 4, 5, 6]\n"
     ]
    }
   ],
   "source": [
    "list1 = [1, 2, 3]\n",
    "list2 = [4, 5, 6]\n",
    "result = list1 + list2  # Concatenating two lists\n",
    "print(result) \n"
   ]
  },
  {
   "cell_type": "markdown",
   "id": "be8b3fb8",
   "metadata": {},
   "source": [
    "List Replication (*): The * operator, when used with a list and an integer, replicates the elements of the list multiple times to create a new list.\n"
   ]
  },
  {
   "cell_type": "code",
   "execution_count": 17,
   "id": "e103d82a",
   "metadata": {},
   "outputs": [
    {
     "name": "stdout",
     "output_type": "stream",
     "text": [
      "[1, 2, 1, 2, 1, 2]\n"
     ]
    }
   ],
   "source": [
    "original_list = [1, 2]\n",
    "replicated_list = original_list * 3  # Replicating the list three times\n",
    "print(replicated_list)  "
   ]
  },
  {
   "cell_type": "markdown",
   "id": "ba9203bc",
   "metadata": {},
   "source": [
    "These operators are useful for manipulating and creating new lists in Python."
   ]
  },
  {
   "cell_type": "markdown",
   "id": "d196bf5e",
   "metadata": {},
   "source": [
    "##### 10. What is difference between the list methods append() and insert()?"
   ]
  },
  {
   "cell_type": "markdown",
   "id": "a0d5eab6",
   "metadata": {},
   "source": [
    "append() Method:\n",
    "\n",
    "The append() method is used to add an element to the end of a list.\n",
    "It takes a single argument, which is the element you want to add.\n",
    "The element is added to the end of the list, increasing the list's length by 1."
   ]
  },
  {
   "cell_type": "code",
   "execution_count": 18,
   "id": "8d1ddbb8",
   "metadata": {},
   "outputs": [
    {
     "data": {
      "text/plain": [
       "[1, 2, 3, 4]"
      ]
     },
     "execution_count": 18,
     "metadata": {},
     "output_type": "execute_result"
    }
   ],
   "source": [
    "my_list = [1, 2, 3]\n",
    "my_list.append(4)  # Adds 4 to the end of the list\n",
    "my_list "
   ]
  },
  {
   "cell_type": "markdown",
   "id": "53711c43",
   "metadata": {},
   "source": [
    "insert() Method:\n",
    "\n",
    "The insert() method is used to add an element at a specific position in the list.\n",
    "It takes two arguments: the first argument is the index at which you want to insert the element, and the second argument is the element itself.\n",
    "The element is inserted at the specified index, and the elements at and after that index are shifted to make room for the new element."
   ]
  },
  {
   "cell_type": "code",
   "execution_count": 19,
   "id": "993d9e0c",
   "metadata": {},
   "outputs": [
    {
     "name": "stdout",
     "output_type": "stream",
     "text": [
      "[1, 4, 2, 3]\n"
     ]
    }
   ],
   "source": [
    "my_list = [1, 2, 3]\n",
    "my_list.insert(1, 4)  # Inserts 4 at index 1\n",
    "print(my_list)  \n"
   ]
  },
  {
   "cell_type": "markdown",
   "id": "caa08ad1",
   "metadata": {},
   "source": [
    "append() adds an element to the end of the list, while insert() allows you to specify the position where you want to insert an element. "
   ]
  },
  {
   "cell_type": "markdown",
   "id": "e2b8703a",
   "metadata": {},
   "source": [
    "#### 11. What are the two methods for removing items from a list?"
   ]
  },
  {
   "cell_type": "markdown",
   "id": "7192beab",
   "metadata": {},
   "source": [
    "remove() Method:\n",
    "\n",
    "The remove() method is used to remove the first occurrence of a specified value from the list.\n",
    "It takes one argument, which is the value you want to remove.\n",
    "If the value is found in the list, it is removed; otherwise, it raises a ValueError if the value is not in the list."
   ]
  },
  {
   "cell_type": "code",
   "execution_count": 20,
   "id": "f974385a",
   "metadata": {},
   "outputs": [
    {
     "data": {
      "text/plain": [
       "[1, 3, 2, 4]"
      ]
     },
     "execution_count": 20,
     "metadata": {},
     "output_type": "execute_result"
    }
   ],
   "source": [
    "my_list = [1, 2, 3, 2, 4]\n",
    "my_list.remove(2)  # Removes the first occurrence of 2\n",
    "my_list  \n"
   ]
  },
  {
   "cell_type": "markdown",
   "id": "8b58d010",
   "metadata": {},
   "source": [
    "pop() Method:\n",
    "\n",
    "The pop() method is used to remove and return an element at a specific index in the list.\n",
    "It takes one optional argument, which is the index of the element to remove. If no index is provided, it removes and returns the last element by default.\n",
    "If you provide an index that is out of range, it raises an IndexError."
   ]
  },
  {
   "cell_type": "code",
   "execution_count": 21,
   "id": "f4060fc5",
   "metadata": {},
   "outputs": [],
   "source": [
    "my_list = [1, 2, 3, 4]\n",
    "removed_item = my_list.pop(1)  # Removes and returns the element at index 1 (2)\n"
   ]
  },
  {
   "cell_type": "code",
   "execution_count": 22,
   "id": "f9a6dc37",
   "metadata": {},
   "outputs": [
    {
     "data": {
      "text/plain": [
       "[1, 3, 4]"
      ]
     },
     "execution_count": 22,
     "metadata": {},
     "output_type": "execute_result"
    }
   ],
   "source": [
    "my_list "
   ]
  },
  {
   "cell_type": "code",
   "execution_count": 23,
   "id": "5cfa4248",
   "metadata": {},
   "outputs": [
    {
     "data": {
      "text/plain": [
       "2"
      ]
     },
     "execution_count": 23,
     "metadata": {},
     "output_type": "execute_result"
    }
   ],
   "source": [
    "removed_item  "
   ]
  },
  {
   "cell_type": "markdown",
   "id": "097d6de5",
   "metadata": {},
   "source": [
    "These methods offer different ways to remove elements from a list: remove() removes a specific value, while pop() removes an element by index and optionally returns it."
   ]
  },
  {
   "cell_type": "markdown",
   "id": "a716b592",
   "metadata": {},
   "source": [
    "##### 12. Describe how list values and string values are identical."
   ]
  },
  {
   "cell_type": "markdown",
   "id": "4121ace6",
   "metadata": {},
   "source": [
    "\n",
    "\n",
    "Ordered Sequence: Both lists and strings are ordered sequences of elements. In a list, elements can be of any data type (including other lists), while in a string, elements are characters.\n",
    "\n",
    "Indexing: You can access individual elements in both lists and strings using indexing. For example, my_list[0] accesses the first element of a list, and my_string[0] accesses the first character of a string.\n",
    "\n",
    "Slicing: You can extract a portion of both lists and strings using slicing. For instance, my_list[1:3] extracts elements at index 1 and 2 from a list, and my_string[1:3] extracts characters at positions 1 and 2 from a string.\n",
    "\n",
    "Iteration: You can iterate over the elements of both lists and strings using loops, making it easy to perform operations on each element sequentially.\n",
    "\n",
    "Concatenation: You can concatenate (combine) multiple lists or strings using the + operator. For lists, this appends one list to another, while for strings, it concatenates one string to another."
   ]
  },
  {
   "cell_type": "markdown",
   "id": "66035729",
   "metadata": {},
   "source": [
    "##### What is the difference between tuples and lists?"
   ]
  },
  {
   "cell_type": "markdown",
   "id": "4ad2fad7",
   "metadata": {},
   "source": [
    "Mutability:\n",
    "\n",
    "Lists: Lists are mutable, which means you can change their contents (add, remove, or modify elements) after they are created.\n",
    "Tuples: Tuples are immutable, meaning once you create a tuple, you cannot change its contents. You can't add, remove, or modify elements in a tuple.\n",
    "Syntax:\n",
    "\n",
    "Lists: Lists are defined using square brackets [ ]. Elements are separated by commas.\n",
    "Tuples: Tuples are defined using parentheses ( ). Elements are also separated by commas.\n",
    "Performance:\n",
    "\n",
    "Lists: Due to their mutability, lists may require more memory and are generally slower when it comes to iteration and modification of elements.\n",
    "Tuples: Tuples, being immutable, are more memory-efficient and faster for iteration. If you have a collection of elements that should not change, using tuples can be more efficient.\n",
    "Use Cases:\n",
    "\n",
    "Lists: Lists are suitable for collections where you need to add, remove, or modify elements during the program's execution. They are commonly used for dynamic data.\n",
    "Tuples: Tuples are useful when you want to ensure that the data remains constant and should not be changed accidentally. They are often used to represent fixed collections of items, such as coordinates (x, y), date and time (year, month, day), or items with a specific order."
   ]
  },
  {
   "cell_type": "markdown",
   "id": "119e9ff0",
   "metadata": {},
   "source": [
    "##### 14. How do you type a tuple value that only contains the integer 42?"
   ]
  },
  {
   "cell_type": "code",
   "execution_count": 25,
   "id": "eedcdb1d",
   "metadata": {},
   "outputs": [],
   "source": [
    "my_tuple = (42,)"
   ]
  },
  {
   "cell_type": "markdown",
   "id": "afffa6b6",
   "metadata": {},
   "source": [
    "The comma after the integer 42 is essential to indicate that you're creating a tuple with a single element. Without the comma, Python would interpret the expression as just an integer within parentheses."
   ]
  },
  {
   "cell_type": "markdown",
   "id": "aa8f470b",
   "metadata": {},
   "source": [
    "##### 15. How do you get a list value's tuple form? How do you get a tuple value's list form?"
   ]
  },
  {
   "cell_type": "code",
   "execution_count": 26,
   "id": "40b8d1aa",
   "metadata": {},
   "outputs": [],
   "source": [
    "my_list = [1, 2, 3]\n",
    "my_tuple = tuple(my_list)"
   ]
  },
  {
   "cell_type": "markdown",
   "id": "d41241aa",
   "metadata": {},
   "source": [
    "Converted List to Tuple"
   ]
  },
  {
   "cell_type": "code",
   "execution_count": 27,
   "id": "4f3ffab9",
   "metadata": {},
   "outputs": [],
   "source": [
    "my_tuple = (1, 2, 3)\n",
    "my_list = list(my_tuple)"
   ]
  },
  {
   "cell_type": "markdown",
   "id": "098b3131",
   "metadata": {},
   "source": [
    "Converted Tuple to List"
   ]
  },
  {
   "cell_type": "markdown",
   "id": "a6d74018",
   "metadata": {},
   "source": [
    "##### 16. Variables that \"contain\" list values are not necessarily lists themselves. Instead, what do they contain?"
   ]
  },
  {
   "cell_type": "markdown",
   "id": "4fcdb2e6",
   "metadata": {},
   "source": [
    "Variables that \"contain\" list values in Python actually contain references or pointers to the list in memory. This means that the variable doesn't hold the list itself but holds the memory address where the list is stored. When you assign a list to a variable, you're essentially creating a reference to that list in memory. This is why operations on variables that reference the same list can affect each other, as they are all pointing to the same underlying list object. "
   ]
  },
  {
   "cell_type": "markdown",
   "id": "44a51c74",
   "metadata": {},
   "source": [
    "##### 17. How do you distinguish between copy.copy() and copy.deepcopy()?"
   ]
  },
  {
   "cell_type": "markdown",
   "id": "3fcbd45b",
   "metadata": {},
   "source": [
    " Python's copy module, copy.copy() and copy.deepcopy() are used to create copies of objects, but they behave differently, especially when dealing with nested objects like lists or dictionaries:\n",
    "\n",
    "copy.copy() (Shallow Copy):\n",
    "\n",
    "Creates a new object.\n",
    "If the object being copied contains references to other objects (e.g., a list of lists), it copies only the references (shallow copy), not the referenced objects themselves.\n",
    "Changes made to nested objects in the copied object will affect the original object, and vice versa.\n",
    "copy.deepcopy() (Deep Copy):\n",
    "\n",
    "Creates a new object.\n",
    "Recursively copies all objects referenced by the original object, and all objects referenced by those objects, and so on (deep copy).\n",
    "Changes made to nested objects in the copied object will not affect the original object, and vice versa. It creates a completely independent copy."
   ]
  },
  {
   "cell_type": "code",
   "execution_count": 28,
   "id": "387d6af0",
   "metadata": {},
   "outputs": [],
   "source": [
    "import copy"
   ]
  },
  {
   "cell_type": "code",
   "execution_count": 29,
   "id": "5adf7cde",
   "metadata": {},
   "outputs": [],
   "source": [
    "original_list = [[1, 2, 3], [4, 5, 6]]\n",
    "shallow_copy = copy.copy(original_list)\n",
    "deep_copy = copy.deepcopy(original_list)"
   ]
  },
  {
   "cell_type": "code",
   "execution_count": 30,
   "id": "25a457f1",
   "metadata": {},
   "outputs": [],
   "source": [
    "# Modify the original list\n",
    "\n",
    "original_list[0][0] = 100"
   ]
  },
  {
   "cell_type": "code",
   "execution_count": 31,
   "id": "1215ed15",
   "metadata": {},
   "outputs": [
    {
     "name": "stdout",
     "output_type": "stream",
     "text": [
      "[[100, 2, 3], [4, 5, 6]]\n"
     ]
    }
   ],
   "source": [
    "print(original_list)"
   ]
  },
  {
   "cell_type": "code",
   "execution_count": 32,
   "id": "5c4743e6",
   "metadata": {},
   "outputs": [
    {
     "name": "stdout",
     "output_type": "stream",
     "text": [
      "[[100, 2, 3], [4, 5, 6]]\n"
     ]
    }
   ],
   "source": [
    "print(shallow_copy)"
   ]
  },
  {
   "cell_type": "code",
   "execution_count": 33,
   "id": "85e78003",
   "metadata": {},
   "outputs": [
    {
     "name": "stdout",
     "output_type": "stream",
     "text": [
      "[[1, 2, 3], [4, 5, 6]]\n"
     ]
    }
   ],
   "source": [
    "print(deep_copy)  "
   ]
  }
 ],
 "metadata": {
  "kernelspec": {
   "display_name": "Python 3 (ipykernel)",
   "language": "python",
   "name": "python3"
  },
  "language_info": {
   "codemirror_mode": {
    "name": "ipython",
    "version": 3
   },
   "file_extension": ".py",
   "mimetype": "text/x-python",
   "name": "python",
   "nbconvert_exporter": "python",
   "pygments_lexer": "ipython3",
   "version": "3.9.12"
  }
 },
 "nbformat": 4,
 "nbformat_minor": 5
}
