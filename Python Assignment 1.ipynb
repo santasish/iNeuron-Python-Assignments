{
 "cells": [
  {
   "cell_type": "markdown",
   "id": "069686f9",
   "metadata": {},
   "source": [
    "###### 1. In the below elements which of them are values or an expression? eg:- values can be integer or string and expressions will be mathematical operators.\n",
    "\n",
    "* \n",
    "'hello'\n",
    "-87.8\n",
    "-\n",
    "/\n",
    " +\n",
    "6"
   ]
  },
  {
   "cell_type": "markdown",
   "id": "77830581",
   "metadata": {},
   "source": [
    "Values: ['hello',-87.8,6]\n",
    "Expression: [*,-,/,+]"
   ]
  },
  {
   "cell_type": "markdown",
   "id": "ac095f01",
   "metadata": {},
   "source": [
    "##### 2. What is the difference between string and variable?"
   ]
  },
  {
   "cell_type": "markdown",
   "id": "b5c8a2ef",
   "metadata": {},
   "source": [
    "String is a datatype for a finite collection/sequence of characters. A string has a finite length whose individual characters can be accessed using indexing.\n",
    "Variable is kind of a holder which can be assigned values. The datatypes of these values which are assigned to variables can be str,int,bool etc.\n",
    "\n",
    "Example:\n",
    "    \"Santasish\" is a string which can be held in a variable called \"name\".\n",
    "    Hence, the variable \"name\" holds a collection of characters(\"Santasish\") which is string datatype.!"
   ]
  },
  {
   "cell_type": "code",
   "execution_count": 16,
   "id": "cf270528",
   "metadata": {},
   "outputs": [
    {
     "data": {
      "text/plain": [
       "str"
      ]
     },
     "execution_count": 16,
     "metadata": {},
     "output_type": "execute_result"
    }
   ],
   "source": [
    "name=\"Santasish\"\n",
    "type(name)"
   ]
  },
  {
   "cell_type": "markdown",
   "id": "79beed07",
   "metadata": {},
   "source": [
    "##### 3. Describe three different data types."
   ]
  },
  {
   "cell_type": "markdown",
   "id": "f9836fbd",
   "metadata": {},
   "source": [
    "string: str --> holds a sequence of characters with a finite length.\n",
    "\n",
    "integer: int --> holds numeric values.\n",
    "\n",
    "boolean: bool --> holds binary digits 1/0 only and returns as True/False."
   ]
  },
  {
   "cell_type": "markdown",
   "id": "f4971fd3",
   "metadata": {},
   "source": [
    "##### 4. What is an expression made up of? What do all expressions do?"
   ]
  },
  {
   "cell_type": "markdown",
   "id": "e26785de",
   "metadata": {},
   "source": [
    "An expression is made up of a combination of operators and operands, which when interpreted, returns a value.\n",
    "Expressions always returns a result value.\n",
    "\n"
   ]
  },
  {
   "cell_type": "code",
   "execution_count": 3,
   "id": "a7fc9dbb",
   "metadata": {},
   "outputs": [
    {
     "name": "stdout",
     "output_type": "stream",
     "text": [
      "30\n"
     ]
    }
   ],
   "source": [
    "# Example of a mathematical expression \n",
    "\n",
    "a = 10         # expression 1\n",
    "b = 20         # expression 2\n",
    "c = a + b      # expression 3 // statement\n",
    "\n",
    "print(c)       "
   ]
  },
  {
   "cell_type": "markdown",
   "id": "59849507",
   "metadata": {},
   "source": [
    "##### 5. This assignment statements, like spam = 10. What is the difference between an expression and a statement?"
   ]
  },
  {
   "cell_type": "markdown",
   "id": "305f3fb9",
   "metadata": {},
   "source": [
    "spam=10 ---> return a value which has a definite and unique meaning. \n",
    "Any statement that returns a value is qualified to be an expression.\n",
    "\n",
    "Expression: spam=10 is a expression which assigns the value 10 to the variable name \"spam\" using the assignment operator '='\n"
   ]
  },
  {
   "cell_type": "code",
   "execution_count": 4,
   "id": "63184dee",
   "metadata": {},
   "outputs": [],
   "source": [
    "spam = 10                                   # Expression"
   ]
  },
  {
   "cell_type": "markdown",
   "id": "20981b3f",
   "metadata": {},
   "source": [
    "Statement is when all individual expressions come together to form a group of expression which is designed to do a task."
   ]
  },
  {
   "cell_type": "code",
   "execution_count": 8,
   "id": "a9e7aa6a",
   "metadata": {},
   "outputs": [],
   "source": [
    "bin = range(1,20,2)                          # Expression\n",
    "\n",
    "newbin = [i for i in bin if i < spam ]       # Group of expression (Statement)"
   ]
  },
  {
   "cell_type": "code",
   "execution_count": 9,
   "id": "2b323943",
   "metadata": {},
   "outputs": [
    {
     "data": {
      "text/plain": [
       "[1, 3, 5, 7, 9]"
      ]
     },
     "execution_count": 9,
     "metadata": {},
     "output_type": "execute_result"
    }
   ],
   "source": [
    "newbin                # Task completed of creating a list with the required data!"
   ]
  },
  {
   "cell_type": "markdown",
   "id": "769a2396",
   "metadata": {},
   "source": [
    "##### 6. After running the following code, what does the variable bacon contain?\n",
    "bacon = 22 \n",
    "\n",
    "bacon + 1"
   ]
  },
  {
   "cell_type": "code",
   "execution_count": 14,
   "id": "b99af328",
   "metadata": {},
   "outputs": [
    {
     "data": {
      "text/plain": [
       "23"
      ]
     },
     "execution_count": 14,
     "metadata": {},
     "output_type": "execute_result"
    }
   ],
   "source": [
    "bacon = 22\n",
    "\n",
    "bacon + 1"
   ]
  },
  {
   "cell_type": "markdown",
   "id": "118a6619",
   "metadata": {},
   "source": [
    "The variable bacon when added with +1, gives the output as 23. But, "
   ]
  },
  {
   "cell_type": "code",
   "execution_count": 15,
   "id": "8612b1ae",
   "metadata": {},
   "outputs": [
    {
     "data": {
      "text/plain": [
       "22"
      ]
     },
     "execution_count": 15,
     "metadata": {},
     "output_type": "execute_result"
    }
   ],
   "source": [
    "bacon"
   ]
  },
  {
   "cell_type": "markdown",
   "id": "cbb82a17",
   "metadata": {},
   "source": [
    "The variable bacon still contains 22!"
   ]
  },
  {
   "cell_type": "markdown",
   "id": "bdd1f6eb",
   "metadata": {},
   "source": [
    "##### 7. What should the values of the following two terms be?\n",
    "'spam' + 'spamspam'\n",
    "\n",
    "\n",
    "'spam' * 3"
   ]
  },
  {
   "cell_type": "code",
   "execution_count": 12,
   "id": "b2bbf458",
   "metadata": {},
   "outputs": [
    {
     "data": {
      "text/plain": [
       "'spamspamspam'"
      ]
     },
     "execution_count": 12,
     "metadata": {},
     "output_type": "execute_result"
    }
   ],
   "source": [
    "'spam' + 'spamspam'"
   ]
  },
  {
   "cell_type": "code",
   "execution_count": 13,
   "id": "7598e339",
   "metadata": {},
   "outputs": [
    {
     "data": {
      "text/plain": [
       "'spamspamspam'"
      ]
     },
     "execution_count": 13,
     "metadata": {},
     "output_type": "execute_result"
    }
   ],
   "source": [
    "'spam' * 3"
   ]
  },
  {
   "cell_type": "markdown",
   "id": "85efacfe",
   "metadata": {},
   "source": [
    "##### 8. Why is eggs a valid variable name while 100 is invalid?"
   ]
  },
  {
   "cell_type": "markdown",
   "id": "c55a3f05",
   "metadata": {},
   "source": [
    "# \n",
    "1. Variable_name in python must start with a letter or an underscore character. The variable name 100 is invalid because variable name in Python cannot start with a number.\n",
    "2. Eggs is a valid variable name as it fulfills the criteria of starting with a letter and not being a reserve keyword in Python."
   ]
  },
  {
   "cell_type": "markdown",
   "id": "fffc65c7",
   "metadata": {},
   "source": [
    "##### 9. What three functions can be used to get the integer, floating-point number, or string version of a value?"
   ]
  },
  {
   "cell_type": "code",
   "execution_count": 6,
   "id": "bfd28939",
   "metadata": {},
   "outputs": [
    {
     "data": {
      "text/plain": [
       "int"
      ]
     },
     "execution_count": 6,
     "metadata": {},
     "output_type": "execute_result"
    }
   ],
   "source": [
    "a=100\n",
    "type(a)"
   ]
  },
  {
   "cell_type": "code",
   "execution_count": 8,
   "id": "b64d74e7",
   "metadata": {},
   "outputs": [
    {
     "data": {
      "text/plain": [
       "100.0"
      ]
     },
     "execution_count": 8,
     "metadata": {},
     "output_type": "execute_result"
    }
   ],
   "source": [
    "float(a)"
   ]
  },
  {
   "cell_type": "code",
   "execution_count": 9,
   "id": "b045fb97",
   "metadata": {},
   "outputs": [
    {
     "data": {
      "text/plain": [
       "'100'"
      ]
     },
     "execution_count": 9,
     "metadata": {},
     "output_type": "execute_result"
    }
   ],
   "source": [
    "str(a)"
   ]
  },
  {
   "cell_type": "code",
   "execution_count": 11,
   "id": "617d20e9",
   "metadata": {},
   "outputs": [
    {
     "data": {
      "text/plain": [
       "int"
      ]
     },
     "execution_count": 11,
     "metadata": {},
     "output_type": "execute_result"
    }
   ],
   "source": [
    "type(int(str(a)))"
   ]
  },
  {
   "cell_type": "markdown",
   "id": "09624a73",
   "metadata": {},
   "source": [
    "##### 10. Why does this expression cause an error? How can you fix it?\n",
    "'I have eaten'+ 99 + 'burritos.'"
   ]
  },
  {
   "cell_type": "code",
   "execution_count": 1,
   "id": "d4074a08",
   "metadata": {},
   "outputs": [
    {
     "ename": "TypeError",
     "evalue": "can only concatenate str (not \"int\") to str",
     "output_type": "error",
     "traceback": [
      "\u001b[1;31m---------------------------------------------------------------------------\u001b[0m",
      "\u001b[1;31mTypeError\u001b[0m                                 Traceback (most recent call last)",
      "Input \u001b[1;32mIn [1]\u001b[0m, in \u001b[0;36m<cell line: 1>\u001b[1;34m()\u001b[0m\n\u001b[1;32m----> 1\u001b[0m \u001b[38;5;124;43m'\u001b[39;49m\u001b[38;5;124;43mI have eaten\u001b[39;49m\u001b[38;5;124;43m'\u001b[39;49m\u001b[38;5;241;43m+\u001b[39;49m\u001b[43m \u001b[49m\u001b[38;5;241;43m99\u001b[39;49m \u001b[38;5;241m+\u001b[39m \u001b[38;5;124m'\u001b[39m\u001b[38;5;124mburritos.\u001b[39m\u001b[38;5;124m'\u001b[39m\n",
      "\u001b[1;31mTypeError\u001b[0m: can only concatenate str (not \"int\") to str"
     ]
    }
   ],
   "source": [
    "'I have eaten'+ 99 + 'burritos.'"
   ]
  },
  {
   "cell_type": "markdown",
   "id": "ca0f435d",
   "metadata": {},
   "source": [
    "So there's a problem with concatenating string and integer."
   ]
  },
  {
   "cell_type": "code",
   "execution_count": 3,
   "id": "0363cb24",
   "metadata": {},
   "outputs": [
    {
     "data": {
      "text/plain": [
       "'I have eaten 99 burritos'"
      ]
     },
     "execution_count": 3,
     "metadata": {},
     "output_type": "execute_result"
    }
   ],
   "source": [
    "'I have eaten'+' 99 '+'burritos'"
   ]
  },
  {
   "cell_type": "markdown",
   "id": "1fa7b0d6",
   "metadata": {},
   "source": [
    "We put the integer value within quotes to change it to a string so that string concatenation operation can be implemented successfully!"
   ]
  }
 ],
 "metadata": {
  "kernelspec": {
   "display_name": "Python 3 (ipykernel)",
   "language": "python",
   "name": "python3"
  },
  "language_info": {
   "codemirror_mode": {
    "name": "ipython",
    "version": 3
   },
   "file_extension": ".py",
   "mimetype": "text/x-python",
   "name": "python",
   "nbconvert_exporter": "python",
   "pygments_lexer": "ipython3",
   "version": "3.9.12"
  }
 },
 "nbformat": 4,
 "nbformat_minor": 5
}
