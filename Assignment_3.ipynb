{
 "cells": [
  {
   "cell_type": "markdown",
   "id": "76c5ec7c",
   "metadata": {},
   "source": [
    "### Assignment 3"
   ]
  },
  {
   "cell_type": "markdown",
   "id": "09b6381c",
   "metadata": {},
   "source": [
    "##### 1. Why are functions advantageous to have in your programs?"
   ]
  },
  {
   "cell_type": "markdown",
   "id": "4c78df7b",
   "metadata": {},
   "source": [
    "Functions in Python, or in any programming language, offer several advantages:\n",
    "\n",
    "1. Reusability: You can define a function once and use it multiple times in your code. This saves you from writing the same code again and again.\n",
    "\n",
    "2. Modularity: Functions break down your code into smaller, manageable chunks. This makes your code easier to understand, debug, and maintain. Each function can focus on a specific task.\n",
    "\n",
    "3. Abstraction: Functions allow you to hide the details of a specific task. You can call a function without needing to understand how it works internally. This abstraction simplifies your code.\n",
    "\n",
    "4. Readability: Well-named functions make your code more readable. Instead of having a long sequence of operations, you can call functions with meaningful names, making your code self-explanatory.\n",
    "\n",
    "5. Testing: Functions are easier to test because you can test each function individually. This makes it simpler to identify and fix issues.\n",
    "\n",
    "6. Collaboration: In a team, different members can work on separate functions simultaneously, and then these functions can be integrated into the main program. This parallel work is efficient and less error-prone.\n",
    "\n",
    "7. Code Maintenance: When you need to make changes or updates to your code, having functions makes it easier. You can modify a single function without affecting the entire program."
   ]
  },
  {
   "cell_type": "markdown",
   "id": "dc88c30f",
   "metadata": {},
   "source": [
    "##### 2. When does the code in a function run: when it is specified or when it is called?"
   ]
  },
  {
   "cell_type": "markdown",
   "id": "4fa9c492",
   "metadata": {},
   "source": [
    "When it is called!\n",
    "\n",
    "In Python, defining a function doesn't execute its code. It only creates a blueprint for what should happen when the function is called. To actually run the code within the function, you need to invoke or call the function by using its name followed by parentheses, like this: my_function(). When this function call is encountered in your code, the statements inside my_function are executed."
   ]
  },
  {
   "cell_type": "markdown",
   "id": "c2617de0",
   "metadata": {},
   "source": [
    "##### 3. What statement creates a function?"
   ]
  },
  {
   "cell_type": "code",
   "execution_count": 1,
   "id": "7aa07324",
   "metadata": {},
   "outputs": [],
   "source": [
    "def my_function():\n",
    "    pass\n",
    "    "
   ]
  },
  {
   "cell_type": "markdown",
   "id": "19b8c4b9",
   "metadata": {},
   "source": [
    "my_function is the name of the function, and any code placed within the function block (indented under def) defines what the function does when it's called."
   ]
  },
  {
   "cell_type": "markdown",
   "id": "7b639371",
   "metadata": {},
   "source": [
    "##### 4. What is the difference between a function and a function call?"
   ]
  },
  {
   "cell_type": "markdown",
   "id": "2c84b60d",
   "metadata": {},
   "source": [
    "Function: A function is a block of code that performs a specific task or a set of tasks. It is defined using the def keyword in Python. Functions are like predefined operations that can be reused throughout your program. They encapsulate a specific behavior or functionality."
   ]
  },
  {
   "cell_type": "code",
   "execution_count": 2,
   "id": "9610c5a9",
   "metadata": {},
   "outputs": [],
   "source": [
    "def greet(name):\n",
    "    print(f\"Hello, {name}!\")\n"
   ]
  },
  {
   "cell_type": "markdown",
   "id": "9e636144",
   "metadata": {},
   "source": [
    "Function Call: A function call is when you actually use or invoke a function in your code. It's the action of telling the program to execute the code within the function. To call a function, you use the function's name followed by parentheses (). "
   ]
  },
  {
   "cell_type": "code",
   "execution_count": 3,
   "id": "c5734413",
   "metadata": {},
   "outputs": [
    {
     "name": "stdout",
     "output_type": "stream",
     "text": [
      "Hello, Sudhanshu!\n"
     ]
    }
   ],
   "source": [
    "greet(\"Sudhanshu\")  # This is a function call\n"
   ]
  },
  {
   "cell_type": "markdown",
   "id": "a8cd8137",
   "metadata": {},
   "source": [
    "##### 5. How many global scopes are there in a Python program? How many local scopes?"
   ]
  },
  {
   "cell_type": "markdown",
   "id": "d8b92420",
   "metadata": {},
   "source": [
    "In a Python program, there is one global scope and potentially multiple local scopes.\n",
    "\n",
    "Global Scope: The global scope is the top-level scope in your Python program. Variables defined in the global scope are accessible from anywhere in your code, both inside and outside functions. It exists for the entire duration of the program's execution."
   ]
  },
  {
   "cell_type": "markdown",
   "id": "2dae3ac8",
   "metadata": {},
   "source": [
    "Local Scope: Local scopes are created within functions or methods. They are temporary and only exist while the function is executing. Variables defined within a local scope are only accessible within that function."
   ]
  },
  {
   "cell_type": "markdown",
   "id": "5769dda4",
   "metadata": {},
   "source": [
    "Each function creates its own local scope when called, and when the function exits, its local scope is destroyed. The global scope, on the other hand, remains throughout the program's execution."
   ]
  },
  {
   "cell_type": "markdown",
   "id": "f5b4df93",
   "metadata": {},
   "source": [
    "##### 6. What happens to variables in a local scope when the function call returns?"
   ]
  },
  {
   "cell_type": "markdown",
   "id": "497f992c",
   "metadata": {},
   "source": [
    "When a function call returns, the variables defined within its local scope are destroyed or deallocated. This means that these variables cease to exist, and their values cannot be accessed or modified outside of the function where they were defined.\n",
    "\n",
    "\n",
    "\n",
    "Variable De-allocation: The memory allocated for local variables in the function's local scope is released. This means that the variables are no longer stored in memory.\n",
    "\n",
    "Inaccessibility: Any attempt to access these variables from outside the function will result in an error (e.g., NameError), as they are out of scope and no longer exist."
   ]
  },
  {
   "cell_type": "markdown",
   "id": "74de0b82",
   "metadata": {},
   "source": [
    "##### 7. What is the concept of a return value? Is it possible to have a return value in an expression?"
   ]
  },
  {
   "cell_type": "markdown",
   "id": "f019ef1c",
   "metadata": {},
   "source": [
    "The concept of a return value in programming refers to the value that a function sends back to the caller when the function is executed."
   ]
  },
  {
   "cell_type": "markdown",
   "id": "5ec05a7d",
   "metadata": {},
   "source": [
    "Purpose: Return values are used to communicate the outcome or result of a function's execution to the part of the program that called the function. It allows functions to pass data or information back to the caller.\n",
    "\n",
    "Expression: Yes, return values can be used in expressions. When a function returns a value, you can capture and use that value in expressions or assign it to a variable for further processing."
   ]
  },
  {
   "cell_type": "code",
   "execution_count": 4,
   "id": "11068245",
   "metadata": {},
   "outputs": [],
   "source": [
    "def add_numbers(a, b):\n",
    "    result = a + b\n",
    "    return result  # 'result' is returned as the function's return value"
   ]
  },
  {
   "cell_type": "code",
   "execution_count": 5,
   "id": "f810db7b",
   "metadata": {},
   "outputs": [
    {
     "name": "stdout",
     "output_type": "stream",
     "text": [
      "The sum is: 8\n"
     ]
    }
   ],
   "source": [
    "# Calling the function and using the return value in an expression\n",
    "\n",
    "sum_result = add_numbers(5, 3)\n",
    "print(\"The sum is:\", sum_result)  # Output: The sum is: 8\n"
   ]
  },
  {
   "cell_type": "markdown",
   "id": "ae81118a",
   "metadata": {},
   "source": [
    "add_numbers returns the result of adding a and b. When the function is called with add_numbers(5, 3), it returns 8, which is then assigned to sum_result and used in the print statement. "
   ]
  },
  {
   "cell_type": "markdown",
   "id": "542d55a3",
   "metadata": {},
   "source": [
    "##### 8. If a function does not have a return statement, what is the return value of a call to that function?"
   ]
  },
  {
   "cell_type": "markdown",
   "id": "815f5c24",
   "metadata": {},
   "source": [
    "If a function in Python does not have a return statement, or if it reaches the end of the function without encountering a return statement, the return value of a call to that function is None."
   ]
  },
  {
   "cell_type": "code",
   "execution_count": 6,
   "id": "2d3923c0",
   "metadata": {},
   "outputs": [
    {
     "name": "stdout",
     "output_type": "stream",
     "text": [
      "None\n"
     ]
    }
   ],
   "source": [
    "def no_return():\n",
    "    pass           # This function has no return statement\n",
    "\n",
    "result = no_return()\n",
    "print(result)  # Output: None\n"
   ]
  },
  {
   "cell_type": "markdown",
   "id": "4e5c1abb",
   "metadata": {},
   "source": [
    " The no_return function doesn't have a return statement. When you call no_return(), it executes but doesn't explicitly return any value. As a result, the return value is None."
   ]
  },
  {
   "cell_type": "markdown",
   "id": "e96919b9",
   "metadata": {},
   "source": [
    "##### 9. How do you make a function variable refer to the global variable?"
   ]
  },
  {
   "cell_type": "markdown",
   "id": "44a2e77a",
   "metadata": {},
   "source": [
    "To make a function variable refer to a global variable in Python, you can use the global keyword within the function to declare that you intend to use a global variable with the same name as the local variable. This allows you to modify the global variable from within the function."
   ]
  },
  {
   "cell_type": "code",
   "execution_count": 7,
   "id": "cccb2d90",
   "metadata": {},
   "outputs": [
    {
     "name": "stdout",
     "output_type": "stream",
     "text": [
      "20\n"
     ]
    }
   ],
   "source": [
    "global_variable = 10  # This is a global variable\n",
    "\n",
    "def modify_global():\n",
    "    global global_variable  # Declare that we are using the global variable\n",
    "    global_variable = 20  # Modify the global variable\n",
    "\n",
    "modify_global()\n",
    "print(global_variable)  \n"
   ]
  },
  {
   "cell_type": "markdown",
   "id": "f54684f8",
   "metadata": {},
   "source": [
    "global_variable is defined globally with an initial value of 10. The modify_global function uses the global keyword to indicate that it wants to work with the global variable. When the function is called, it changes the value of global_variable to 20, and this change is reflected in the global scope."
   ]
  },
  {
   "cell_type": "markdown",
   "id": "f02d344a",
   "metadata": {},
   "source": [
    "##### 10. What is the data type of None?"
   ]
  },
  {
   "cell_type": "markdown",
   "id": "4e0ab4f0",
   "metadata": {},
   "source": [
    "data type of None is called NoneType. It represents the absence of a value or a null value. None is often used to indicate that a variable or a result has no meaningful value or has not been initialized."
   ]
  },
  {
   "cell_type": "code",
   "execution_count": 8,
   "id": "12b0296d",
   "metadata": {},
   "outputs": [
    {
     "data": {
      "text/plain": [
       "NoneType"
      ]
     },
     "execution_count": 8,
     "metadata": {},
     "output_type": "execute_result"
    }
   ],
   "source": [
    "a = None\n",
    "type(a)"
   ]
  },
  {
   "cell_type": "markdown",
   "id": "78484632",
   "metadata": {},
   "source": [
    "##### 11. What does the sentence import areallyourpetsnamederic do?"
   ]
  },
  {
   "cell_type": "markdown",
   "id": "8cf45f6f",
   "metadata": {},
   "source": [
    "The sentence \"import areallyourpetsnamederic\" would raise a ModuleNotFoundError in Python. This error occurs because Python is unable to find a module named \"areallyourpetsnamederic\" in its standard library or any of the directories included in the Python path."
   ]
  },
  {
   "cell_type": "markdown",
   "id": "1dd905cd",
   "metadata": {},
   "source": [
    "##### 12. If you had a bacon() feature in a spam module, what would you call it after importing spam?"
   ]
  },
  {
   "cell_type": "markdown",
   "id": "a8330b39",
   "metadata": {},
   "source": [
    "If you have a function named bacon() in a module named spam, you can call it after importing the spam module by using the following syntax:"
   ]
  },
  {
   "cell_type": "markdown",
   "id": "98af880b",
   "metadata": {},
   "source": [
    "import spam\n",
    "\n",
    "spam.bacon()\n"
   ]
  },
  {
   "cell_type": "markdown",
   "id": "4a2078d4",
   "metadata": {},
   "source": [
    "This syntax allows you to access and call the bacon() function from the spam module."
   ]
  },
  {
   "cell_type": "markdown",
   "id": "eaca9a9d",
   "metadata": {},
   "source": [
    "##### 13. What can you do to save a programme from crashing if it encounters an error?"
   ]
  },
  {
   "cell_type": "markdown",
   "id": "04702bee",
   "metadata": {},
   "source": [
    "You can use exception handling to prevent a program from crashing when it encounters an error. In Python, you can use try-except blocks to handle exceptions "
   ]
  },
  {
   "cell_type": "code",
   "execution_count": 9,
   "id": "c95ad97d",
   "metadata": {},
   "outputs": [
    {
     "name": "stdout",
     "output_type": "stream",
     "text": [
      "Error: Division by zero\n"
     ]
    }
   ],
   "source": [
    "try:\n",
    "    # Code that might raise an exception\n",
    "    result = 10 / 0  # This will raise a ZeroDivisionError\n",
    "except ZeroDivisionError:\n",
    "    # Code to handle the exception\n",
    "    print(\"Error: Division by zero\")\n"
   ]
  },
  {
   "cell_type": "markdown",
   "id": "fe9facac",
   "metadata": {},
   "source": [
    "##### 14. What is the purpose of the try clause? What is the purpose of the except clause?"
   ]
  },
  {
   "cell_type": "markdown",
   "id": "09b7ee75",
   "metadata": {},
   "source": [
    "\n",
    "The try and except clauses in Python are used for exception handling:\n",
    "\n",
    "Purpose of the try Clause:\n",
    "\n",
    "The try clause encloses a block of code where you anticipate that an exception might occur.\n",
    "Its purpose is to identify the section of code that might raise an exception.\n",
    "\n",
    "\n",
    "\n",
    "Purpose of the except Clause:\n",
    "\n",
    "The except clause specifies what actions should be taken if an exception occurs within the corresponding try block.\n",
    "It defines how to handle the exception gracefully.\n",
    "When an exception occurs in the try block, Python checks if there's a matching except block for that type of exception.\n",
    "If a matching except block is found, the code within that block is executed to handle the exception.\n",
    "Here's a typical structure of a try-except block:"
   ]
  },
  {
   "cell_type": "code",
   "execution_count": 11,
   "id": "ea798cc5",
   "metadata": {},
   "outputs": [
    {
     "name": "stdout",
     "output_type": "stream",
     "text": [
      "Error: Division by zero\n"
     ]
    }
   ],
   "source": [
    "\n",
    "try:\n",
    "    # Code that might raise an exception\n",
    "    result = 10 / 0  # This might raise a ZeroDivisionError\n",
    "except ZeroDivisionError:\n",
    "    # Code to handle the ZeroDivisionError\n",
    "    print(\"Error: Division by zero\")\n",
    "\n"
   ]
  },
  {
   "cell_type": "markdown",
   "id": "437934e7",
   "metadata": {},
   "source": [
    "\n",
    "The try clause identifies the code that may cause a ZeroDivisionError.\n",
    "The except clause specifies how to handle this specific exception by printing an error message.\n",
    "Overall, the try clause helps to isolate potential exceptions, and the except clause defines how to gracefully handle those exceptions if they occur."
   ]
  }
 ],
 "metadata": {
  "kernelspec": {
   "display_name": "Python 3 (ipykernel)",
   "language": "python",
   "name": "python3"
  },
  "language_info": {
   "codemirror_mode": {
    "name": "ipython",
    "version": 3
   },
   "file_extension": ".py",
   "mimetype": "text/x-python",
   "name": "python",
   "nbconvert_exporter": "python",
   "pygments_lexer": "ipython3",
   "version": "3.9.12"
  }
 },
 "nbformat": 4,
 "nbformat_minor": 5
}
