{
 "cells": [
  {
   "cell_type": "markdown",
   "id": "d6f1aa12",
   "metadata": {},
   "source": [
    "##### 1. What are escape characters, and how do you use them?"
   ]
  },
  {
   "cell_type": "markdown",
   "id": "dee5b42e",
   "metadata": {},
   "source": [
    "Escape characters in Python are special characters that are used to represent characters that cannot be typed as-is within a string. They are preceded by a backslash \\. "
   ]
  },
  {
   "cell_type": "code",
   "execution_count": 1,
   "id": "f2244129",
   "metadata": {},
   "outputs": [
    {
     "name": "stdout",
     "output_type": "stream",
     "text": [
      "Hello\n",
      "World\n"
     ]
    }
   ],
   "source": [
    "# \\n inserts a new_line\n",
    "\n",
    "print(\"Hello\\nWorld\")\n"
   ]
  },
  {
   "cell_type": "code",
   "execution_count": 2,
   "id": "cd25f586",
   "metadata": {},
   "outputs": [
    {
     "name": "stdout",
     "output_type": "stream",
     "text": [
      "Name:\tJohn\n"
     ]
    }
   ],
   "source": [
    "# '\\t'inserts a tab space within a string.\n",
    "\n",
    "print(\"Name:\\tJohn\")\n"
   ]
  },
  {
   "cell_type": "code",
   "execution_count": 3,
   "id": "9ed341a7",
   "metadata": {},
   "outputs": [
    {
     "name": "stdout",
     "output_type": "stream",
     "text": [
      "This is a backslash: \\\n"
     ]
    }
   ],
   "source": [
    "# '\\\\' backslash character\n",
    "\n",
    "print(\"This is a backslash: \\\\\")\n"
   ]
  },
  {
   "cell_type": "code",
   "execution_count": 4,
   "id": "e4be8feb",
   "metadata": {},
   "outputs": [
    {
     "name": "stdout",
     "output_type": "stream",
     "text": [
      "He said, 'Hello!'\n"
     ]
    }
   ],
   "source": [
    "# using single quotes\n",
    "\n",
    "print('He said, \\'Hello!\\'')\n"
   ]
  },
  {
   "cell_type": "code",
   "execution_count": 5,
   "id": "deb3c7cb",
   "metadata": {},
   "outputs": [
    {
     "name": "stdout",
     "output_type": "stream",
     "text": [
      "She said, \"Hi!\"\n"
     ]
    }
   ],
   "source": [
    "# using double quotes\n",
    "\n",
    "print(\"She said, \\\"Hi!\\\"\")\n"
   ]
  },
  {
   "cell_type": "markdown",
   "id": "02e9ae7a",
   "metadata": {},
   "source": [
    " \\xNN: Represents a character with the hexadecimal value NN. This allows you to include special characters by specifying their ASCII or Unicode values in hexadecimal."
   ]
  },
  {
   "cell_type": "code",
   "execution_count": 6,
   "id": "a0dff327",
   "metadata": {},
   "outputs": [
    {
     "name": "stdout",
     "output_type": "stream",
     "text": [
      "A\n"
     ]
    }
   ],
   "source": [
    "print(\"\\x41\")  # Prints the character 'A' (ASCII code 65)"
   ]
  },
  {
   "cell_type": "markdown",
   "id": "24ba1e8b",
   "metadata": {},
   "source": [
    "\\uNNNN or \\UNNNNNNNN: Represents a Unicode character with the specified code point in hexadecimal. The \\u notation is used for 16-bit Unicode characters, while \\U is used for 32-bit Unicode characters."
   ]
  },
  {
   "cell_type": "code",
   "execution_count": 8,
   "id": "f9790434",
   "metadata": {},
   "outputs": [
    {
     "name": "stdout",
     "output_type": "stream",
     "text": [
      "Σ\n"
     ]
    }
   ],
   "source": [
    "print(\"\\u03A3\")   "
   ]
  },
  {
   "cell_type": "code",
   "execution_count": 7,
   "id": "96bd03a7",
   "metadata": {},
   "outputs": [
    {
     "name": "stdout",
     "output_type": "stream",
     "text": [
      "😂\n"
     ]
    }
   ],
   "source": [
    "print(\"\\U0001F602\") "
   ]
  },
  {
   "cell_type": "markdown",
   "id": "f180b8eb",
   "metadata": {},
   "source": [
    "##### 2. What do the escape characters n and t stand for?"
   ]
  },
  {
   "cell_type": "markdown",
   "id": "2641818d",
   "metadata": {},
   "source": [
    "'\\n' inserts a new_line"
   ]
  },
  {
   "cell_type": "markdown",
   "id": "13deb792",
   "metadata": {},
   "source": [
    "'\\t'inserts a tab space"
   ]
  },
  {
   "cell_type": "markdown",
   "id": "9850c0bd",
   "metadata": {},
   "source": [
    "##### 3. What is the way to include backslash characters in a string?"
   ]
  },
  {
   "cell_type": "code",
   "execution_count": 9,
   "id": "87b19107",
   "metadata": {},
   "outputs": [
    {
     "name": "stdout",
     "output_type": "stream",
     "text": [
      "This is a backslash: \\\n"
     ]
    }
   ],
   "source": [
    "text = \"This is a backslash: \\\\\"\n",
    "print(text)"
   ]
  },
  {
   "cell_type": "markdown",
   "id": "491df7ea",
   "metadata": {},
   "source": [
    "##### 4. The string \"Howl's Moving Castle\" is a correct value. Why isn't the single quote character in the word Howl's not escaped a problem?"
   ]
  },
  {
   "cell_type": "code",
   "execution_count": 10,
   "id": "76076718",
   "metadata": {},
   "outputs": [
    {
     "name": "stdout",
     "output_type": "stream",
     "text": [
      "Howl's Moving Castle\n"
     ]
    }
   ],
   "source": [
    "text = 'Howl\\'s Moving Castle'\n",
    "print(text)\n"
   ]
  },
  {
   "cell_type": "markdown",
   "id": "32d34848",
   "metadata": {},
   "source": [
    "##### 5. How do you write a string of newlines if you don't want to use the n character?"
   ]
  },
  {
   "cell_type": "markdown",
   "id": "309fe455",
   "metadata": {},
   "source": [
    "Using triple quotes to create a multi-line string.."
   ]
  },
  {
   "cell_type": "code",
   "execution_count": 11,
   "id": "832fb780",
   "metadata": {},
   "outputs": [],
   "source": [
    "text = '''\n",
    "This is a string\n",
    "with multiple lines.\n",
    "You can include newlines\n",
    "without using '\\\\n'.\n",
    "'''\n"
   ]
  },
  {
   "cell_type": "markdown",
   "id": "59cae22a",
   "metadata": {},
   "source": [
    "##### 6. What are the values of the given expressions?"
   ]
  },
  {
   "cell_type": "code",
   "execution_count": 12,
   "id": "6067a0a9",
   "metadata": {},
   "outputs": [
    {
     "data": {
      "text/plain": [
       "'e'"
      ]
     },
     "execution_count": 12,
     "metadata": {},
     "output_type": "execute_result"
    }
   ],
   "source": [
    "\"Hello, world!\"[1]"
   ]
  },
  {
   "cell_type": "code",
   "execution_count": 13,
   "id": "24581890",
   "metadata": {},
   "outputs": [
    {
     "data": {
      "text/plain": [
       "'Hello'"
      ]
     },
     "execution_count": 13,
     "metadata": {},
     "output_type": "execute_result"
    }
   ],
   "source": [
    "'Hello, world'[0:5]"
   ]
  },
  {
   "cell_type": "code",
   "execution_count": 14,
   "id": "cf883a64",
   "metadata": {},
   "outputs": [
    {
     "data": {
      "text/plain": [
       "'Hello'"
      ]
     },
     "execution_count": 14,
     "metadata": {},
     "output_type": "execute_result"
    }
   ],
   "source": [
    "'Hello, world'[:5]"
   ]
  },
  {
   "cell_type": "code",
   "execution_count": 15,
   "id": "fc76143a",
   "metadata": {},
   "outputs": [
    {
     "data": {
      "text/plain": [
       "'lo, world!'"
      ]
     },
     "execution_count": 15,
     "metadata": {},
     "output_type": "execute_result"
    }
   ],
   "source": [
    "\"Hello, world!\"[3:]"
   ]
  },
  {
   "cell_type": "markdown",
   "id": "88421a33",
   "metadata": {},
   "source": [
    "##### 7. What are the values of the following expressions?"
   ]
  },
  {
   "cell_type": "code",
   "execution_count": 16,
   "id": "8b9c7efa",
   "metadata": {},
   "outputs": [
    {
     "data": {
      "text/plain": [
       "'HELLO'"
      ]
     },
     "execution_count": 16,
     "metadata": {},
     "output_type": "execute_result"
    }
   ],
   "source": [
    "'Hello'.upper()"
   ]
  },
  {
   "cell_type": "code",
   "execution_count": 17,
   "id": "f79544d9",
   "metadata": {},
   "outputs": [
    {
     "data": {
      "text/plain": [
       "True"
      ]
     },
     "execution_count": 17,
     "metadata": {},
     "output_type": "execute_result"
    }
   ],
   "source": [
    "'Hello'.upper().isupper()"
   ]
  },
  {
   "cell_type": "code",
   "execution_count": 18,
   "id": "95bb124f",
   "metadata": {},
   "outputs": [
    {
     "data": {
      "text/plain": [
       "False"
      ]
     },
     "execution_count": 18,
     "metadata": {},
     "output_type": "execute_result"
    }
   ],
   "source": [
    "'Hello'.upper().islower()"
   ]
  },
  {
   "cell_type": "markdown",
   "id": "4c49a0d7",
   "metadata": {},
   "source": [
    "##### 8. What are the values of the following expressions?"
   ]
  },
  {
   "cell_type": "code",
   "execution_count": 19,
   "id": "ba90900a",
   "metadata": {},
   "outputs": [
    {
     "data": {
      "text/plain": [
       "['Remember,', 'remember,', 'the', 'fifth', 'of', 'July.']"
      ]
     },
     "execution_count": 19,
     "metadata": {},
     "output_type": "execute_result"
    }
   ],
   "source": [
    "'Remember, remember, the fifth of July.'.split()"
   ]
  },
  {
   "cell_type": "code",
   "execution_count": 20,
   "id": "dbd3c89a",
   "metadata": {},
   "outputs": [
    {
     "data": {
      "text/plain": [
       "'There-can-only-one.'"
      ]
     },
     "execution_count": 20,
     "metadata": {},
     "output_type": "execute_result"
    }
   ],
   "source": [
    "'-'.join('There can only one.'.split())"
   ]
  },
  {
   "cell_type": "markdown",
   "id": "80727c2f",
   "metadata": {},
   "source": [
    "##### 9. What are the methods for right-justifying, left-justifying, and centering a string?"
   ]
  },
  {
   "cell_type": "markdown",
   "id": "ce32131b",
   "metadata": {},
   "source": [
    "Right-Justify: The str.rjust(width[, fillchar]) method right-justifies/aligns a string in a field of a specified width. We can also provide an optional fillchar character to fill the space to the left of the string."
   ]
  },
  {
   "cell_type": "code",
   "execution_count": 23,
   "id": "9b2d231f",
   "metadata": {},
   "outputs": [
    {
     "data": {
      "text/plain": [
       "'^^Hi'"
      ]
     },
     "execution_count": 23,
     "metadata": {},
     "output_type": "execute_result"
    }
   ],
   "source": [
    "text = \"Hi\"\n",
    "justified_text = text.rjust(4, '^')\n",
    "\n",
    "justified_text"
   ]
  },
  {
   "cell_type": "markdown",
   "id": "25de5281",
   "metadata": {},
   "source": [
    "Left-Justify: The str.ljust(width[, fillchar]) method left aligns a string in a field of a specified width. We can provide an optional fillchar character to fill the space to the right of the string."
   ]
  },
  {
   "cell_type": "code",
   "execution_count": 25,
   "id": "d8b0e4ab",
   "metadata": {},
   "outputs": [
    {
     "data": {
      "text/plain": [
       "'Hello^^^'"
      ]
     },
     "execution_count": 25,
     "metadata": {},
     "output_type": "execute_result"
    }
   ],
   "source": [
    "text = \"Hello\"\n",
    "justified_text = text.ljust(8, '^')\n",
    "\n",
    "justified_text"
   ]
  },
  {
   "cell_type": "markdown",
   "id": "67f6ce56",
   "metadata": {},
   "source": [
    "Center: The str.center(width[, fillchar]) method centers a string in a field of a specified width. We can also provide an optional fillchar character to fill the spaces on both sides of the string."
   ]
  },
  {
   "cell_type": "code",
   "execution_count": 28,
   "id": "c2e6d938",
   "metadata": {},
   "outputs": [
    {
     "data": {
      "text/plain": [
       "'^^^^Hi^^^^'"
      ]
     },
     "execution_count": 28,
     "metadata": {},
     "output_type": "execute_result"
    }
   ],
   "source": [
    "text = \"Hi\"\n",
    "centered_text = text.center(10, '^')\n",
    "centered_text\n"
   ]
  },
  {
   "cell_type": "markdown",
   "id": "605d8737",
   "metadata": {},
   "source": [
    "##### 10. What is the best way to remove whitespace characters from the start or end?"
   ]
  },
  {
   "cell_type": "code",
   "execution_count": 29,
   "id": "606eb937",
   "metadata": {},
   "outputs": [
    {
     "data": {
      "text/plain": [
       "'Hello, World!'"
      ]
     },
     "execution_count": 29,
     "metadata": {},
     "output_type": "execute_result"
    }
   ],
   "source": [
    "text = \"   Hello, World!   \"\n",
    "stripped_text = text.strip()\n",
    "\n",
    "stripped_text"
   ]
  },
  {
   "cell_type": "markdown",
   "id": "8d2fb4e9",
   "metadata": {},
   "source": [
    "using the string method .strip()"
   ]
  }
 ],
 "metadata": {
  "kernelspec": {
   "display_name": "Python 3 (ipykernel)",
   "language": "python",
   "name": "python3"
  },
  "language_info": {
   "codemirror_mode": {
    "name": "ipython",
    "version": 3
   },
   "file_extension": ".py",
   "mimetype": "text/x-python",
   "name": "python",
   "nbconvert_exporter": "python",
   "pygments_lexer": "ipython3",
   "version": "3.9.12"
  }
 },
 "nbformat": 4,
 "nbformat_minor": 5
}
